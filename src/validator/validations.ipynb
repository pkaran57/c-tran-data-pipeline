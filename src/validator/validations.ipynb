{
 "cells": [
  {
   "cell_type": "code",
   "execution_count": 1,
   "metadata": {},
   "outputs": [],
   "source": [
    "\n",
    "import pandas as pd\n",
    "import numpy as np\n",
    "import matplotlib.pyplot as plt\n",
    "import seaborn as sns\n",
    "import math\n",
    "import datetime"
   ]
  },
  {
   "cell_type": "code",
   "execution_count": 54,
   "metadata": {},
   "outputs": [
    {
     "data": {
      "text/plain": [
       "['ACT_TIME',\n",
       " 'DIRECTION',\n",
       " 'EVENT_NO_STOP',\n",
       " 'EVENT_NO_TRIP',\n",
       " 'GPS_HDOP',\n",
       " 'GPS_LATITUDE',\n",
       " 'GPS_LONGITUDE',\n",
       " 'GPS_SATELLITES',\n",
       " 'METERS',\n",
       " 'OPD_DATE',\n",
       " 'RADIO_QUALITY',\n",
       " 'SCHEDULE_DEVIATION',\n",
       " 'VEHICLE_ID',\n",
       " 'VELOCITY']"
      ]
     },
     "execution_count": 54,
     "metadata": {},
     "output_type": "execute_result"
    }
   ],
   "source": [
    "df = pd.read_json('2021-02-10.json')\n",
    "df.head()\n",
    "list(df.columns)"
   ]
  },
  {
   "cell_type": "code",
   "execution_count": 4,
   "metadata": {},
   "outputs": [],
   "source": [
    "event_no_trip = df['EVENT_NO_TRIP']\n",
    "act_time = df['ACT_TIME']"
   ]
  },
  {
   "cell_type": "code",
   "execution_count": 5,
   "metadata": {},
   "outputs": [
    {
     "name": "stdout",
     "output_type": "stream",
     "text": [
      "The total row number:  370452\n",
      "The total act_time:  370452\n"
     ]
    }
   ],
   "source": [
    "print('The total row number: ',len(event_no_trip))\n",
    "print('The total act_time: ',len(act_time))"
   ]
  },
  {
   "cell_type": "code",
   "execution_count": 6,
   "metadata": {},
   "outputs": [
    {
     "name": "stdout",
     "output_type": "stream",
     "text": [
      "There are 1679 unique for the EVENT_NO_TRIP attribute\n",
      "There are 67819 unique for the ACT_TIME attribute\n"
     ]
    }
   ],
   "source": [
    "# Unique event validation\n",
    "event_no_trip_set = set()\n",
    "act_time_set = set()\n",
    "for i in range(len(event_no_trip)):\n",
    "    event_no_trip_set.add(event_no_trip[i])\n",
    "\n",
    "for i in range(len(act_time)):\n",
    "    act_time_set.add(act_time[i])\n",
    "\n",
    "event_no_trip_list = sorted(event_no_trip_set)\n",
    "print('There are {} unique for the EVENT_NO_TRIP attribute'.format(len(event_no_trip_list)))\n",
    "\n",
    "act_time_list = sorted(act_time_set)\n",
    "print('There are {} unique for the ACT_TIME attribute'.format(len(act_time_list)))"
   ]
  },
  {
   "cell_type": "code",
   "execution_count": 11,
   "metadata": {},
   "outputs": [
    {
     "name": "stdout",
     "output_type": "stream",
     "text": [
      "All the event_no_trip values are of length 9\n"
     ]
    }
   ],
   "source": [
    "# EVENT_NO_TRIP length validation\n",
    "for i in event_no_trip:\n",
    "    if len(str(i)) ==9:\n",
    "        continue\n",
    "    else:\n",
    "        print(\"The data is incorrect for the event_no_trip: \", i)\n",
    "        break\n",
    "print(\"All the event_no_trip values are of length 9\")\n"
   ]
  },
  {
   "cell_type": "code",
   "execution_count": 12,
   "metadata": {},
   "outputs": [
    {
     "name": "stdout",
     "output_type": "stream",
     "text": [
      "All the event_no_stop values are of length 9\n"
     ]
    }
   ],
   "source": [
    "# EVENT_NO_STOP length validation\n",
    "event_no_stop = df['EVENT_NO_STOP']\n",
    "for i in event_no_stop:\n",
    "    if len(str(i)) ==9:\n",
    "        continue\n",
    "    else:\n",
    "        print(\"The data is incorrect for the event_no_stop: \", i)\n",
    "        break\n",
    "print(\"All the event_no_stop values are of length 9\")"
   ]
  },
  {
   "cell_type": "code",
   "execution_count": 33,
   "metadata": {},
   "outputs": [
    {
     "name": "stdout",
     "output_type": "stream",
     "text": [
      "all values have a gps value 45\n"
     ]
    }
   ],
   "source": [
    "# gps latitide decimal part validation \n",
    "gps_latitude = df['GPS_LATITUDE']\n",
    "for i in gps_latitude:\n",
    "    lat = i.strip().split(\".\")[0]\n",
    "    if lat != '45' and lat != \"\":\n",
    "        print(\"---\",lat)\n",
    "        print(\"a value with gps value which is not 45\")\n",
    "        \n",
    "print(\"all values have a gps value 45\")\n",
    "        "
   ]
  },
  {
   "cell_type": "code",
   "execution_count": 34,
   "metadata": {},
   "outputs": [
    {
     "name": "stdout",
     "output_type": "stream",
     "text": [
      "all values have a gps value -122\n"
     ]
    }
   ],
   "source": [
    "# gps logitude validation \n",
    "gps_logitude = df['GPS_LONGITUDE']\n",
    "for i in gps_logitude:\n",
    "    lat = i.strip().split(\".\")[0]\n",
    "    if lat != '-122' and lat != \"\":\n",
    "        print(\"---\",lat)\n",
    "        print(\"a value with gps value which is not -122\")\n",
    "        \n",
    "print(\"all values have a gps value -122\")"
   ]
  },
  {
   "cell_type": "code",
   "execution_count": 51,
   "metadata": {},
   "outputs": [
    {
     "name": "stdout",
     "output_type": "stream",
     "text": [
      "all values fall in the asserted range\n"
     ]
    }
   ],
   "source": [
    "# GPS_SATELLITES  values validation; should be 10, 11, 12\n",
    "gps_satillites = df['GPS_SATELLITES']\n",
    "for i in gps_satillites:\n",
    "    if i:\n",
    "        gps = int(i)\n",
    "    if gps < 3 and gps> 17:\n",
    "        print(\"assertion is wrong\")\n",
    "    \n",
    "print(\"all values fall in the asserted range\")"
   ]
  },
  {
   "cell_type": "code",
   "execution_count": 53,
   "metadata": {},
   "outputs": [
    {
     "name": "stdout",
     "output_type": "stream",
     "text": [
      "all the assertions are correct\n"
     ]
    }
   ],
   "source": [
    "# VELOCITY\n",
    "velocity = df['VELOCITY']\n",
    "vel =0\n",
    "for i in velocity:\n",
    "    if i:\n",
    "        vel = int(i)\n",
    "    if vel<0 and vel>60:\n",
    "        print(\"assertion is wrong\")\n",
    "print(\"all the assertions are correct\")\n"
   ]
  },
  {
   "cell_type": "code",
   "execution_count": 56,
   "metadata": {},
   "outputs": [
    {
     "name": "stdout",
     "output_type": "stream",
     "text": [
      "Assertion about direction is correct\n"
     ]
    }
   ],
   "source": [
    "# DIRECTION range\n",
    "direction = df['DIRECTION']\n",
    "dir = 0\n",
    "for i in direction:\n",
    "    if i:\n",
    "        dir = int(i)\n",
    "    if dir < 0 and dir > 359:\n",
    "        print(\"assertion made is wrong\")\n",
    "print(\"Assertion about direction is correct\")"
   ]
  },
  {
   "cell_type": "code",
   "execution_count": 78,
   "metadata": {},
   "outputs": [
    {
     "name": "stdout",
     "output_type": "stream",
     "text": [
      "valid assertion\n"
     ]
    }
   ],
   "source": [
    "# VEHICLE_ID length\n",
    "vehicle_id = df['VEHICLE_ID']\n",
    "for i in vehicle_id:\n",
    "    if len(str(i)) != 4 and len(str(i)) != 7:\n",
    "        print(\"invalid vehicle id assertion\")\n",
    "print(\"valid assertion\")\n"
   ]
  },
  {
   "cell_type": "code",
   "execution_count": 66,
   "metadata": {},
   "outputs": [
    {
     "name": "stdout",
     "output_type": "stream",
     "text": [
      "OPD_DATE present for all entries\n"
     ]
    }
   ],
   "source": [
    "# OPD_DATE for all entries\n",
    "opd_date = df['OPD_DATE']\n",
    "for i in opd_date:\n",
    "    if not i:\n",
    "        print(\"assertion not true\")\n",
    "print(\"OPD_DATE present for all entries\")\n"
   ]
  },
  {
   "cell_type": "code",
   "execution_count": null,
   "metadata": {},
   "outputs": [],
   "source": []
  }
 ],
 "metadata": {
  "kernelspec": {
   "display_name": "Python 3",
   "language": "python",
   "name": "python3"
  },
  "language_info": {
   "codemirror_mode": {
    "name": "ipython",
    "version": 3
   },
   "file_extension": ".py",
   "mimetype": "text/x-python",
   "name": "python",
   "nbconvert_exporter": "python",
   "pygments_lexer": "ipython3",
   "version": "3.6.10"
  }
 },
 "nbformat": 4,
 "nbformat_minor": 4
}
